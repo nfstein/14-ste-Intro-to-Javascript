{
 "cells": [
  {
   "cell_type": "code",
   "execution_count": 1,
   "metadata": {
    "collapsed": true
   },
   "outputs": [],
   "source": [
    "import requests"
   ]
  },
  {
   "cell_type": "code",
   "execution_count": 7,
   "metadata": {},
   "outputs": [],
   "source": [
    "\n",
    "features = requests.get('http://code.highcharts.com/mapdata/countries/us/custom/us-all-mainland.geo.json').json()['features']"
   ]
  },
  {
   "cell_type": "code",
   "execution_count": 10,
   "metadata": {},
   "outputs": [
    {
     "data": {
      "text/plain": [
       "{'geometry': {'coordinates': [[[[9430, 7889],\n",
       "     [9476, 7878],\n",
       "     [9436, 7864],\n",
       "     [9417, 7844],\n",
       "     [9430, 7889]]],\n",
       "   [[[9314, 7915],\n",
       "     [9312, 7927],\n",
       "     [9304, 7921],\n",
       "     [9278, 7938],\n",
       "     [9254, 7990],\n",
       "     [9177, 7968],\n",
       "     [8997, 7925],\n",
       "     [8860, 7896],\n",
       "     [8853, 7901],\n",
       "     [8856, 8080],\n",
       "     [8922, 8096],\n",
       "     [9005, 8115],\n",
       "     [9005, 8115],\n",
       "     [9222, 8166],\n",
       "     [9242, 8201],\n",
       "     [9300, 8236],\n",
       "     [9318, 8197],\n",
       "     [9357, 8186],\n",
       "     [9312, 8147],\n",
       "     [9299, 8081],\n",
       "     [9324, 8091],\n",
       "     [9365, 8074],\n",
       "     [9428, 7985],\n",
       "     [9483, 7974],\n",
       "     [9525, 8007],\n",
       "     [9501, 8067],\n",
       "     [9535, 8028],\n",
       "     [9549, 7982],\n",
       "     [9504, 7965],\n",
       "     [9420, 7906],\n",
       "     [9411, 7955],\n",
       "     [9371, 7921],\n",
       "     [9373, 7898],\n",
       "     [9339, 7878],\n",
       "     [9327, 7915],\n",
       "     [9314, 7915]]]],\n",
       "  'type': 'MultiPolygon'},\n",
       " 'id': 'US.MA',\n",
       " 'properties': {'country': 'United States of America',\n",
       "  'fips': 'US25',\n",
       "  'hasc': 'US.MA',\n",
       "  'hc-a2': 'MA',\n",
       "  'hc-group': 'admin1',\n",
       "  'hc-key': 'us-ma',\n",
       "  'hc-middle-x': 0.36,\n",
       "  'hc-middle-y': 0.47,\n",
       "  'labelrank': '0',\n",
       "  'latitude': '42.3739',\n",
       "  'longitude': '-71.99930000000001',\n",
       "  'name': 'Massachusetts',\n",
       "  'postal-code': 'MA',\n",
       "  'region': 'Northeast',\n",
       "  'state-fips': '25',\n",
       "  'type': 'State',\n",
       "  'woe-id': '2347580',\n",
       "  'woe-label': 'Massachusetts, US, United States',\n",
       "  'woe-name': 'Massachusetts'},\n",
       " 'type': 'Feature'}"
      ]
     },
     "execution_count": 10,
     "metadata": {},
     "output_type": "execute_result"
    }
   ],
   "source": [
    "features[0]"
   ]
  },
  {
   "cell_type": "code",
   "execution_count": null,
   "metadata": {
    "collapsed": true
   },
   "outputs": [],
   "source": []
  }
 ],
 "metadata": {
  "kernelspec": {
   "display_name": "Python 3",
   "language": "python",
   "name": "python3"
  },
  "language_info": {
   "codemirror_mode": {
    "name": "ipython",
    "version": 3
   },
   "file_extension": ".py",
   "mimetype": "text/x-python",
   "name": "python",
   "nbconvert_exporter": "python",
   "pygments_lexer": "ipython3",
   "version": "3.6.3"
  }
 },
 "nbformat": 4,
 "nbformat_minor": 2
}
